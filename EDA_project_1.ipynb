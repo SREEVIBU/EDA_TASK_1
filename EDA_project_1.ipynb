{
 "cells": [
  {
   "cell_type": "code",
   "execution_count": 1,
   "id": "5b11c7ad",
   "metadata": {},
   "outputs": [],
   "source": [
    "import numpy as np \n",
    "import pandas as pd"
   ]
  },
  {
   "cell_type": "code",
   "execution_count": 2,
   "id": "958076a1",
   "metadata": {},
   "outputs": [],
   "source": [
    "data=pd.read_csv(r\"C:\\Users\\SREEVIBU\\OneDrive\\Desktop\\TEST\\direct_reports_dataset (1).csv\")"
   ]
  },
  {
   "cell_type": "code",
   "execution_count": 3,
   "id": "6d07a942",
   "metadata": {},
   "outputs": [
    {
     "data": {
      "text/html": [
       "<div>\n",
       "<style scoped>\n",
       "    .dataframe tbody tr th:only-of-type {\n",
       "        vertical-align: middle;\n",
       "    }\n",
       "\n",
       "    .dataframe tbody tr th {\n",
       "        vertical-align: top;\n",
       "    }\n",
       "\n",
       "    .dataframe thead th {\n",
       "        text-align: right;\n",
       "    }\n",
       "</style>\n",
       "<table border=\"1\" class=\"dataframe\">\n",
       "  <thead>\n",
       "    <tr style=\"text-align: right;\">\n",
       "      <th></th>\n",
       "      <th>employee_id</th>\n",
       "      <th>position</th>\n",
       "      <th>managers_id</th>\n",
       "    </tr>\n",
       "  </thead>\n",
       "  <tbody>\n",
       "    <tr>\n",
       "      <th>0</th>\n",
       "      <td>1001</td>\n",
       "      <td>Analytics Manager</td>\n",
       "      <td>1013.0</td>\n",
       "    </tr>\n",
       "    <tr>\n",
       "      <th>1</th>\n",
       "      <td>1002</td>\n",
       "      <td>Data Engineer</td>\n",
       "      <td>1007.0</td>\n",
       "    </tr>\n",
       "    <tr>\n",
       "      <th>2</th>\n",
       "      <td>1003</td>\n",
       "      <td>Data Engineer</td>\n",
       "      <td>1001.0</td>\n",
       "    </tr>\n",
       "    <tr>\n",
       "      <th>3</th>\n",
       "      <td>1004</td>\n",
       "      <td>Database Developer</td>\n",
       "      <td>1017.0</td>\n",
       "    </tr>\n",
       "    <tr>\n",
       "      <th>4</th>\n",
       "      <td>1005</td>\n",
       "      <td>Data Analyst</td>\n",
       "      <td>1001.0</td>\n",
       "    </tr>\n",
       "    <tr>\n",
       "      <th>...</th>\n",
       "      <td>...</td>\n",
       "      <td>...</td>\n",
       "      <td>...</td>\n",
       "    </tr>\n",
       "    <tr>\n",
       "      <th>95</th>\n",
       "      <td>2077</td>\n",
       "      <td>Data Scientist</td>\n",
       "      <td>1017.0</td>\n",
       "    </tr>\n",
       "    <tr>\n",
       "      <th>96</th>\n",
       "      <td>2078</td>\n",
       "      <td>Database Developer</td>\n",
       "      <td>1007.0</td>\n",
       "    </tr>\n",
       "    <tr>\n",
       "      <th>97</th>\n",
       "      <td>2079</td>\n",
       "      <td>Data Scientist</td>\n",
       "      <td>1017.0</td>\n",
       "    </tr>\n",
       "    <tr>\n",
       "      <th>98</th>\n",
       "      <td>2080</td>\n",
       "      <td>Data Scientist</td>\n",
       "      <td>1017.0</td>\n",
       "    </tr>\n",
       "    <tr>\n",
       "      <th>99</th>\n",
       "      <td>2081</td>\n",
       "      <td>Data Analyst</td>\n",
       "      <td>1001.0</td>\n",
       "    </tr>\n",
       "  </tbody>\n",
       "</table>\n",
       "<p>100 rows × 3 columns</p>\n",
       "</div>"
      ],
      "text/plain": [
       "    employee_id            position  managers_id\n",
       "0          1001   Analytics Manager       1013.0\n",
       "1          1002       Data Engineer       1007.0\n",
       "2          1003       Data Engineer       1001.0\n",
       "3          1004  Database Developer       1017.0\n",
       "4          1005        Data Analyst       1001.0\n",
       "..          ...                 ...          ...\n",
       "95         2077      Data Scientist       1017.0\n",
       "96         2078  Database Developer       1007.0\n",
       "97         2079      Data Scientist       1017.0\n",
       "98         2080      Data Scientist       1017.0\n",
       "99         2081        Data Analyst       1001.0\n",
       "\n",
       "[100 rows x 3 columns]"
      ]
     },
     "execution_count": 3,
     "metadata": {},
     "output_type": "execute_result"
    }
   ],
   "source": [
    "df=pd.DataFrame(data)\n",
    "df"
   ]
  },
  {
   "cell_type": "code",
   "execution_count": 4,
   "id": "934399db",
   "metadata": {},
   "outputs": [
    {
     "data": {
      "text/html": [
       "<div>\n",
       "<style scoped>\n",
       "    .dataframe tbody tr th:only-of-type {\n",
       "        vertical-align: middle;\n",
       "    }\n",
       "\n",
       "    .dataframe tbody tr th {\n",
       "        vertical-align: top;\n",
       "    }\n",
       "\n",
       "    .dataframe thead th {\n",
       "        text-align: right;\n",
       "    }\n",
       "</style>\n",
       "<table border=\"1\" class=\"dataframe\">\n",
       "  <thead>\n",
       "    <tr style=\"text-align: right;\">\n",
       "      <th></th>\n",
       "      <th>employee_id</th>\n",
       "      <th>position</th>\n",
       "      <th>managers_id</th>\n",
       "    </tr>\n",
       "  </thead>\n",
       "  <tbody>\n",
       "    <tr>\n",
       "      <th>0</th>\n",
       "      <td>1001</td>\n",
       "      <td>Analytics Manager</td>\n",
       "      <td>1013.0</td>\n",
       "    </tr>\n",
       "    <tr>\n",
       "      <th>1</th>\n",
       "      <td>1002</td>\n",
       "      <td>Data Engineer</td>\n",
       "      <td>1007.0</td>\n",
       "    </tr>\n",
       "    <tr>\n",
       "      <th>2</th>\n",
       "      <td>1003</td>\n",
       "      <td>Data Engineer</td>\n",
       "      <td>1001.0</td>\n",
       "    </tr>\n",
       "    <tr>\n",
       "      <th>3</th>\n",
       "      <td>1004</td>\n",
       "      <td>Database Developer</td>\n",
       "      <td>1017.0</td>\n",
       "    </tr>\n",
       "    <tr>\n",
       "      <th>4</th>\n",
       "      <td>1005</td>\n",
       "      <td>Data Analyst</td>\n",
       "      <td>1001.0</td>\n",
       "    </tr>\n",
       "    <tr>\n",
       "      <th>5</th>\n",
       "      <td>1006</td>\n",
       "      <td>Data Engineer</td>\n",
       "      <td>1017.0</td>\n",
       "    </tr>\n",
       "    <tr>\n",
       "      <th>6</th>\n",
       "      <td>1007</td>\n",
       "      <td>Data Engineering Manager</td>\n",
       "      <td>1013.0</td>\n",
       "    </tr>\n",
       "    <tr>\n",
       "      <th>7</th>\n",
       "      <td>1008</td>\n",
       "      <td>Database Developer</td>\n",
       "      <td>1001.0</td>\n",
       "    </tr>\n",
       "    <tr>\n",
       "      <th>8</th>\n",
       "      <td>1009</td>\n",
       "      <td>Data Engineer</td>\n",
       "      <td>1007.0</td>\n",
       "    </tr>\n",
       "    <tr>\n",
       "      <th>9</th>\n",
       "      <td>1010</td>\n",
       "      <td>Data Scientist</td>\n",
       "      <td>1017.0</td>\n",
       "    </tr>\n",
       "  </tbody>\n",
       "</table>\n",
       "</div>"
      ],
      "text/plain": [
       "   employee_id                  position  managers_id\n",
       "0         1001         Analytics Manager       1013.0\n",
       "1         1002             Data Engineer       1007.0\n",
       "2         1003             Data Engineer       1001.0\n",
       "3         1004        Database Developer       1017.0\n",
       "4         1005              Data Analyst       1001.0\n",
       "5         1006             Data Engineer       1017.0\n",
       "6         1007  Data Engineering Manager       1013.0\n",
       "7         1008        Database Developer       1001.0\n",
       "8         1009             Data Engineer       1007.0\n",
       "9         1010            Data Scientist       1017.0"
      ]
     },
     "execution_count": 4,
     "metadata": {},
     "output_type": "execute_result"
    }
   ],
   "source": [
    "\n",
    "df.head(10)"
   ]
  },
  {
   "cell_type": "code",
   "execution_count": 5,
   "id": "088b3582",
   "metadata": {},
   "outputs": [
    {
     "data": {
      "text/plain": [
       "(100, 3)"
      ]
     },
     "execution_count": 5,
     "metadata": {},
     "output_type": "execute_result"
    }
   ],
   "source": [
    "df.shape"
   ]
  },
  {
   "cell_type": "code",
   "execution_count": 6,
   "id": "f72db99e",
   "metadata": {},
   "outputs": [
    {
     "data": {
      "text/plain": [
       "employee_id    0\n",
       "position       0\n",
       "managers_id    4\n",
       "dtype: int64"
      ]
     },
     "execution_count": 6,
     "metadata": {},
     "output_type": "execute_result"
    }
   ],
   "source": [
    "empty=df.isnull().sum()\n",
    "empty"
   ]
  },
  {
   "cell_type": "code",
   "execution_count": 7,
   "id": "a38a9e1d",
   "metadata": {},
   "outputs": [
    {
     "data": {
      "text/plain": [
       "np.int64(0)"
      ]
     },
     "execution_count": 7,
     "metadata": {},
     "output_type": "execute_result"
    }
   ],
   "source": [
    "duplicate=df.duplicated().sum()\n",
    "duplicate"
   ]
  },
  {
   "cell_type": "code",
   "execution_count": 8,
   "id": "8ac4c755",
   "metadata": {},
   "outputs": [
    {
     "data": {
      "text/html": [
       "<div>\n",
       "<style scoped>\n",
       "    .dataframe tbody tr th:only-of-type {\n",
       "        vertical-align: middle;\n",
       "    }\n",
       "\n",
       "    .dataframe tbody tr th {\n",
       "        vertical-align: top;\n",
       "    }\n",
       "\n",
       "    .dataframe thead th {\n",
       "        text-align: right;\n",
       "    }\n",
       "</style>\n",
       "<table border=\"1\" class=\"dataframe\">\n",
       "  <thead>\n",
       "    <tr style=\"text-align: right;\">\n",
       "      <th></th>\n",
       "      <th>employee_id</th>\n",
       "      <th>managers_id</th>\n",
       "    </tr>\n",
       "  </thead>\n",
       "  <tbody>\n",
       "    <tr>\n",
       "      <th>count</th>\n",
       "      <td>100.000000</td>\n",
       "      <td>96.000000</td>\n",
       "    </tr>\n",
       "    <tr>\n",
       "      <th>mean</th>\n",
       "      <td>1845.110000</td>\n",
       "      <td>1009.729167</td>\n",
       "    </tr>\n",
       "    <tr>\n",
       "      <th>std</th>\n",
       "      <td>407.056691</td>\n",
       "      <td>6.122399</td>\n",
       "    </tr>\n",
       "    <tr>\n",
       "      <th>min</th>\n",
       "      <td>1001.000000</td>\n",
       "      <td>1001.000000</td>\n",
       "    </tr>\n",
       "    <tr>\n",
       "      <th>25%</th>\n",
       "      <td>2006.750000</td>\n",
       "      <td>1007.000000</td>\n",
       "    </tr>\n",
       "    <tr>\n",
       "      <th>50%</th>\n",
       "      <td>2031.500000</td>\n",
       "      <td>1007.000000</td>\n",
       "    </tr>\n",
       "    <tr>\n",
       "      <th>75%</th>\n",
       "      <td>2056.250000</td>\n",
       "      <td>1017.000000</td>\n",
       "    </tr>\n",
       "    <tr>\n",
       "      <th>max</th>\n",
       "      <td>2081.000000</td>\n",
       "      <td>1017.000000</td>\n",
       "    </tr>\n",
       "  </tbody>\n",
       "</table>\n",
       "</div>"
      ],
      "text/plain": [
       "       employee_id  managers_id\n",
       "count   100.000000    96.000000\n",
       "mean   1845.110000  1009.729167\n",
       "std     407.056691     6.122399\n",
       "min    1001.000000  1001.000000\n",
       "25%    2006.750000  1007.000000\n",
       "50%    2031.500000  1007.000000\n",
       "75%    2056.250000  1017.000000\n",
       "max    2081.000000  1017.000000"
      ]
     },
     "execution_count": 8,
     "metadata": {},
     "output_type": "execute_result"
    }
   ],
   "source": [
    "df.describe()"
   ]
  },
  {
   "cell_type": "code",
   "execution_count": 9,
   "id": "556cc0b4",
   "metadata": {},
   "outputs": [
    {
     "name": "stdout",
     "output_type": "stream",
     "text": [
      "    employee_id                  position  managers_id\n",
      "0          1001         Analytics Manager       1013.0\n",
      "6          1007  Data Engineering Manager       1013.0\n",
      "16         1017      Data Science Manager       1013.0\n",
      "28         2010  Data Engineering Manager       1013.0\n",
      "30         2012         Analytics Manager       1013.0\n",
      "31         2013      Data Science Manager       1013.0\n",
      "32         2014      Data Science Manager       1013.0\n",
      "33         2015         Analytics Manager       1013.0\n",
      "37         2019      Data Science Manager       1013.0\n",
      "38         2020  Data Engineering Manager       1013.0\n",
      "41         2023  Data Engineering Manager       1013.0\n",
      "44         2026      Data Science Manager       1013.0\n",
      "62         2044      Data Science Manager       1013.0\n",
      "72         2054         Analytics Manager       1013.0\n",
      "73         2055  Data Engineering Manager       1013.0\n",
      "83         2065      Data Science Manager       1013.0\n",
      "86         2068         Analytics Manager       1013.0\n",
      "89         2071         Analytics Manager       1013.0\n",
      "92         2074  Data Engineering Manager       1013.0\n"
     ]
    }
   ],
   "source": [
    "managers = df[df['position'].str.contains(\"Manager\", case=False)]\n",
    "print(managers)"
   ]
  },
  {
   "cell_type": "code",
   "execution_count": 10,
   "id": "2f693e55",
   "metadata": {},
   "outputs": [
    {
     "name": "stdout",
     "output_type": "stream",
     "text": [
      "   manager_id  direct_reports\n",
      "0      1001.0              22\n",
      "1      1007.0              27\n",
      "2      1013.0              19\n",
      "3      1017.0              28\n"
     ]
    }
   ],
   "source": [
    "direct_reports = df.groupby(\"managers_id\")['employee_id'].count().reset_index()\n",
    "direct_reports.columns = [\"manager_id\", \"direct_reports\"]\n",
    "print(direct_reports)"
   ]
  },
  {
   "cell_type": "code",
   "execution_count": 11,
   "id": "94d11f47",
   "metadata": {},
   "outputs": [
    {
     "name": "stdout",
     "output_type": "stream",
     "text": [
      "   manager_id  direct_reports  employee_id                  position\n",
      "0      1001.0              22         1001         Analytics Manager\n",
      "1      1007.0              27         1007  Data Engineering Manager\n",
      "2      1013.0              19         1013                       CTO\n",
      "3      1017.0              28         1017      Data Science Manager\n"
     ]
    }
   ],
   "source": [
    "direct_reports = direct_reports.merge(df[['employee_id','position']],left_on=\"manager_id\", right_on=\"employee_id\", how=\"left\")\n",
    "print(direct_reports)"
   ]
  },
  {
   "cell_type": "code",
   "execution_count": 12,
   "id": "bdede879",
   "metadata": {},
   "outputs": [
    {
     "name": "stdout",
     "output_type": "stream",
     "text": [
      "Top Manager: manager_id                      1017.0\n",
      "direct_reports                      28\n",
      "employee_id                       1017\n",
      "position          Data Science Manager\n",
      "Name: 3, dtype: object\n"
     ]
    }
   ],
   "source": [
    "top_manager = direct_reports.loc[direct_reports['direct_reports'].idxmax()]\n",
    "print(\"Top Manager:\", top_manager)"
   ]
  },
  {
   "cell_type": "code",
   "execution_count": 13,
   "id": "fbaf4dde",
   "metadata": {},
   "outputs": [
    {
     "data": {
      "image/png": "[encoded data removed]",
      "text/plain": [
       "<Figure size 640x480 with 1 Axes>"
      ]
     },
     "metadata": {},
     "output_type": "display_data"
    }
   ],
   "source": [
    "import matplotlib.pyplot as plt\n",
    "plt.bar(direct_reports['position'], direct_reports['direct_reports'])\n",
    "plt.xticks(rotation=90)\n",
    "plt.title(\"Manager vs Direct Reports\")\n",
    "plt.show()"
   ]
  },
  {
   "cell_type": "code",
   "execution_count": 14,
   "id": "748dd559",
   "metadata": {},
   "outputs": [
    {
     "data": {
      "text/plain": [
       "np.float64(24.0)"
      ]
     },
     "execution_count": 14,
     "metadata": {},
     "output_type": "execute_result"
    }
   ],
   "source": [
    "avg = direct_reports['direct_reports'].mean()\n",
    "avg"
   ]
  },
  {
   "cell_type": "code",
   "execution_count": 15,
   "id": "db6665c0",
   "metadata": {},
   "outputs": [
    {
     "data": {
      "text/plain": [
       "np.float64(24.5)"
      ]
     },
     "execution_count": 15,
     "metadata": {},
     "output_type": "execute_result"
    }
   ],
   "source": [
    "med = direct_reports['direct_reports'].median()\n",
    "med"
   ]
  },
  {
   "cell_type": "code",
   "execution_count": 16,
   "id": "a8386f2e",
   "metadata": {},
   "outputs": [
    {
     "data": {
      "text/plain": [
       "np.int64(19)"
      ]
     },
     "execution_count": 16,
     "metadata": {},
     "output_type": "execute_result"
    }
   ],
   "source": [
    "mode = direct_reports['direct_reports'].mode()[0]\n",
    "mode\n"
   ]
  },
  {
   "cell_type": "code",
   "execution_count": 17,
   "id": "0eb16b8e",
   "metadata": {},
   "outputs": [
    {
     "name": "stdout",
     "output_type": "stream",
     "text": [
      "Probability reports to CTO: 0.19\n"
     ]
    }
   ],
   "source": [
    "cto_id = df[df['position'].str.contains(\"CTO\", case=False)]['employee_id'].iloc[0]\n",
    "prob = (df['managers_id'] == cto_id).mean()\n",
    "print(\"Probability reports to CTO:\", prob)"
   ]
  },
  {
   "cell_type": "code",
   "execution_count": 18,
   "id": "be3eed9a",
   "metadata": {},
   "outputs": [
    {
     "name": "stdout",
     "output_type": "stream",
     "text": [
      "Direct Reports: [22 27 19 28]\n",
      "Influence: [1.5 1.5 1.5 1.5]\n",
      "Addition: [23.5 28.5 20.5 29.5]\n",
      "Subtraction: [20.5 25.5 17.5 26.5]\n",
      "Dot Product: 144.0\n",
      "Matrix Multiply: 144.0\n"
     ]
    }
   ],
   "source": [
    "\n",
    "reports_array = direct_reports['direct_reports'].to_numpy()\n",
    "influence = np.full_like(reports_array, 1.5, dtype=float)\n",
    "\n",
    "print(\"Direct Reports:\", reports_array)\n",
    "print(\"Influence:\", influence)\n",
    "\n",
    "print(\"Addition:\", reports_array + influence)\n",
    "print(\"Subtraction:\", reports_array - influence)\n",
    "print(\"Dot Product:\", np.dot(reports_array, influence))\n",
    "print(\"Matrix Multiply:\", reports_array @ influence)"
   ]
  },
  {
   "cell_type": "code",
   "execution_count": 19,
   "id": "674400ac",
   "metadata": {},
   "outputs": [
    {
     "name": "stdout",
     "output_type": "stream",
     "text": [
      "Derivative wrt Direct Reports: Efficiency_Factor/Manager_Experience\n"
     ]
    }
   ],
   "source": [
    "import sympy as sp\n",
    "D, E, M = sp.symbols('Direct_Reports Efficiency_Factor Manager_Experience')\n",
    "\n",
    "Productivity = (D * E) / M\n",
    "derivative = sp.diff(Productivity, D)\n",
    "print(\"Derivative wrt Direct Reports:\", derivative)"
   ]
  },
  {
   "cell_type": "code",
   "execution_count": 20,
   "id": "48c58ae2",
   "metadata": {},
   "outputs": [
    {
     "name": "stdout",
     "output_type": "stream",
     "text": [
      "    employee_id                  position  direct_reports\n",
      "16         1017      Data Science Manager            28.0\n",
      "6          1007  Data Engineering Manager            27.0\n",
      "0          1001         Analytics Manager            22.0\n",
      "28         2010  Data Engineering Manager             0.0\n",
      "30         2012         Analytics Manager             0.0\n",
      "31         2013      Data Science Manager             0.0\n",
      "32         2014      Data Science Manager             0.0\n",
      "33         2015         Analytics Manager             0.0\n",
      "37         2019      Data Science Manager             0.0\n",
      "38         2020  Data Engineering Manager             0.0\n",
      "41         2023  Data Engineering Manager             0.0\n",
      "44         2026      Data Science Manager             0.0\n",
      "62         2044      Data Science Manager             0.0\n",
      "72         2054         Analytics Manager             0.0\n",
      "73         2055  Data Engineering Manager             0.0\n",
      "83         2065      Data Science Manager             0.0\n",
      "86         2068         Analytics Manager             0.0\n",
      "89         2071         Analytics Manager             0.0\n",
      "92         2074  Data Engineering Manager             0.0\n"
     ]
    }
   ],
   "source": [
    "df = df.merge(direct_reports[['manager_id','direct_reports']],\n",
    "              left_on='employee_id', right_on='manager_id', how='left')\n",
    "df['direct_reports'] = df['direct_reports'].fillna(0)\n",
    "\n",
    "df['is_manager'] = df['position'].str.contains(\"Manager\", case=False).astype(int)\n",
    "\n",
    "df['high_team_size'] = (df['direct_reports'] > avg).astype(int)\n",
    "\n",
    "manager_ranking = df[df['is_manager']==1].sort_values(by=\"direct_reports\", ascending=False)\n",
    "print(manager_ranking[['employee_id','position','direct_reports']])"
   ]
  },
  {
   "cell_type": "code",
   "execution_count": 21,
   "id": "32174940",
   "metadata": {},
   "outputs": [
    {
     "name": "stdout",
     "output_type": "stream",
     "text": [
      "    employee_id                  position  managers_id  manager_id  \\\n",
      "16         1017      Data Science Manager       1013.0      1017.0   \n",
      "6          1007  Data Engineering Manager       1013.0      1007.0   \n",
      "0          1001         Analytics Manager       1013.0      1001.0   \n",
      "\n",
      "    direct_reports  is_manager  high_team_size  \n",
      "16            28.0           1               1  \n",
      "6             27.0           1               1  \n",
      "0             22.0           1               0  \n",
      "    employee_id                  position  managers_id  manager_id  \\\n",
      "16         1017      Data Science Manager       1013.0      1017.0   \n",
      "6          1007  Data Engineering Manager       1013.0      1007.0   \n",
      "0          1001         Analytics Manager       1013.0      1001.0   \n",
      "28         2010  Data Engineering Manager       1013.0         NaN   \n",
      "30         2012         Analytics Manager       1013.0         NaN   \n",
      "31         2013      Data Science Manager       1013.0         NaN   \n",
      "32         2014      Data Science Manager       1013.0         NaN   \n",
      "33         2015         Analytics Manager       1013.0         NaN   \n",
      "37         2019      Data Science Manager       1013.0         NaN   \n",
      "38         2020  Data Engineering Manager       1013.0         NaN   \n",
      "41         2023  Data Engineering Manager       1013.0         NaN   \n",
      "44         2026      Data Science Manager       1013.0         NaN   \n",
      "62         2044      Data Science Manager       1013.0         NaN   \n",
      "72         2054         Analytics Manager       1013.0         NaN   \n",
      "73         2055  Data Engineering Manager       1013.0         NaN   \n",
      "83         2065      Data Science Manager       1013.0         NaN   \n",
      "86         2068         Analytics Manager       1013.0         NaN   \n",
      "89         2071         Analytics Manager       1013.0         NaN   \n",
      "92         2074  Data Engineering Manager       1013.0         NaN   \n",
      "\n",
      "    direct_reports  is_manager  high_team_size  \n",
      "16            28.0           1               1  \n",
      "6             27.0           1               1  \n",
      "0             22.0           1               0  \n",
      "28             0.0           1               0  \n",
      "30             0.0           1               0  \n",
      "31             0.0           1               0  \n",
      "32             0.0           1               0  \n",
      "33             0.0           1               0  \n",
      "37             0.0           1               0  \n",
      "38             0.0           1               0  \n",
      "41             0.0           1               0  \n",
      "44             0.0           1               0  \n",
      "62             0.0           1               0  \n",
      "72             0.0           1               0  \n",
      "73             0.0           1               0  \n",
      "83             0.0           1               0  \n",
      "86             0.0           1               0  \n",
      "89             0.0           1               0  \n",
      "92             0.0           1               0  \n",
      "    employee_id            position  total_team_size\n",
      "0          1001   Analytics Manager               22\n",
      "1          1002       Data Engineer                0\n",
      "2          1003       Data Engineer                0\n",
      "3          1004  Database Developer                0\n",
      "4          1005        Data Analyst                0\n",
      "..          ...                 ...              ...\n",
      "95         2077      Data Scientist                0\n",
      "96         2078  Database Developer                0\n",
      "97         2079      Data Scientist                0\n",
      "98         2080      Data Scientist                0\n",
      "99         2081        Data Analyst                0\n",
      "\n",
      "[100 rows x 3 columns]\n"
     ]
    }
   ],
   "source": [
    "print(manager_ranking[manager_ranking['direct_reports'] > 3])\n",
    "\n",
    "print(manager_ranking.sort_values(by=['direct_reports','employee_id'], ascending=[False,True]))\n",
    "\n",
    "def get_team_size(manager_id):\n",
    "    team = df[df['managers_id']==manager_id]['employee_id'].tolist()\n",
    "    total = len(team)\n",
    "    for emp in team:\n",
    "        total += get_team_size(emp)\n",
    "    return total\n",
    "\n",
    "df['total_team_size'] = df['employee_id'].apply(get_team_size)\n",
    "print(df[['employee_id','position','total_team_size']])"
   ]
  },
  {
   "cell_type": "code",
   "execution_count": 22,
   "id": "da950be0",
   "metadata": {},
   "outputs": [
    {
     "name": "stdout",
     "output_type": "stream",
     "text": [
      "Largest team: employee_id          1013\n",
      "position              CTO\n",
      "managers_id           NaN\n",
      "manager_id         1013.0\n",
      "direct_reports       19.0\n",
      "is_manager              0\n",
      "high_team_size          0\n",
      "total_team_size        96\n",
      "Name: 12, dtype: object\n",
      "Average team size: 0.96\n",
      "    employee_id            position  direct_reports\n",
      "0          1001   Analytics Manager            22.0\n",
      "1          1002       Data Engineer             0.0\n",
      "2          1003       Data Engineer             0.0\n",
      "3          1004  Database Developer             0.0\n",
      "4          1005        Data Analyst             0.0\n",
      "..          ...                 ...             ...\n",
      "95         2077      Data Scientist             0.0\n",
      "96         2078  Database Developer             0.0\n",
      "97         2079      Data Scientist             0.0\n",
      "98         2080      Data Scientist             0.0\n",
      "99         2081        Data Analyst             0.0\n",
      "\n",
      "[98 rows x 3 columns]\n",
      "title_prefix\n",
      "Analytics    3.666667\n",
      "CTO          4.750000\n",
      "Data         0.763889\n",
      "Database     0.000000\n",
      "Name: direct_reports, dtype: float64\n"
     ]
    }
   ],
   "source": [
    "largest_team = df.loc[df['total_team_size'].idxmax()]\n",
    "print(\"Largest team:\", largest_team)\n",
    "\n",
    "print(\"Average team size:\", df['direct_reports'].mean())\n",
    "\n",
    "print(df[df['direct_reports'] < avg][['employee_id','position','direct_reports']])\n",
    "\n",
    "df['title_prefix'] = df['position'].str.split().str[0]\n",
    "print(df.groupby('title_prefix')['direct_reports'].mean())"
   ]
  }
 ],
 "metadata": {
  "kernelspec": {
   "display_name": "Python 3",
   "language": "python",
   "name": "python3"
  },
  "language_info": {
   "codemirror_mode": {
    "name": "ipython",
    "version": 3
   },
   "file_extension": ".py",
   "mimetype": "text/x-python",
   "name": "python",
   "nbconvert_exporter": "python",
   "pygments_lexer": "ipython3",
   "version": "3.10.18"
  }
 },
 "nbformat": 4,
 "nbformat_minor": 5
}
